{
 "cells": [
  {
   "cell_type": "markdown",
   "metadata": {},
   "source": [
    "# Questão 1"
   ]
  },
  {
   "cell_type": "markdown",
   "metadata": {},
   "source": [
    "De um velocímetro de um automóvel foram obtidos as seguintes leituras de velocidade instantânea:"
   ]
  },
  {
   "cell_type": "markdown",
   "metadata": {},
   "source": [
    "| t(segundos) | 0,0000 | 5,0000 | 10,0000 | 15,0000 | 20,0000 | 25,0000 | 30,0000 | 35,0000 | 40,0000 |\n",
    "| --- | --- | --- | --- | --- | --- | --- | --- | --- | --- |\n",
    "| v(m/s) | 0,0000 | 7,5000 | 7,5000 | 15,0000 | 15,0000 | 22,5000 | 24,1667 | 27,2222 | 27,7778 |\n",
    "\n",
    "\n",
    "<center>Tabela 1: Tempo e velocidade de um veículo.</center>"
   ]
  },
  {
   "cell_type": "markdown",
   "metadata": {},
   "source": [
    "Calcule a distância em metros percorrida pelo automóvel usando a regra dos trapézios composta. Considere a precisão\n",
    "de quatro casas decimais após a virgula na solução da questão."
   ]
  },
  {
   "cell_type": "code",
   "execution_count": 74,
   "metadata": {},
   "outputs": [],
   "source": [
    "import numpy as np"
   ]
  },
  {
   "cell_type": "code",
   "execution_count": 75,
   "metadata": {},
   "outputs": [],
   "source": [
    "t_segundos = np.array([0.0000, 5.0000, 10.0000, 15.0000, 20.0000, 25.0000, 30.0000, 35.0000, 40.0000]) #x\n",
    "v_ms = np.array([0.0000, 7.5000, 7.5000, 15.0000, 15.0000, 22.5000, 24.1667, 27.2222, 27.7778]) #fx"
   ]
  },
  {
   "cell_type": "code",
   "execution_count": 80,
   "metadata": {},
   "outputs": [],
   "source": [
    "def regra_trapezios_composta(x, y):\n",
    "    altura = (x[-1] - x[0])\n",
    "    somatorio = 0\n",
    "    somatorio_interno = 0\n",
    "\n",
    "    for i in range(1, np.size(x)):\n",
    "        somatorio_interno += 2*y[i] \n",
    "\n",
    "    somatorio = y[0] + (2 * somatorio_interno) + y[-1]\n",
    "    \n",
    "    area = (altura / 2) * somatorio\n",
    "    \n",
    "    return area"
   ]
  },
  {
   "cell_type": "code",
   "execution_count": 81,
   "metadata": {},
   "outputs": [],
   "source": [
    "resultado = regra_trapezios_composta(t_segundos, v_ms)"
   ]
  },
  {
   "cell_type": "code",
   "execution_count": 82,
   "metadata": {},
   "outputs": [
    {
     "name": "stdout",
     "output_type": "stream",
     "text": [
      "A distância percorrida pelo automóvel é: 12288.8920\n"
     ]
    }
   ],
   "source": [
    "print(\"A distância percorrida pelo automóvel é: {:.4f}\".format(resultado))"
   ]
  }
 ],
 "metadata": {
  "kernelspec": {
   "display_name": "Python 3",
   "language": "python",
   "name": "python3"
  },
  "language_info": {
   "codemirror_mode": {
    "name": "ipython",
    "version": 3
   },
   "file_extension": ".py",
   "mimetype": "text/x-python",
   "name": "python",
   "nbconvert_exporter": "python",
   "pygments_lexer": "ipython3",
   "version": "3.8.3"
  }
 },
 "nbformat": 4,
 "nbformat_minor": 4
}
